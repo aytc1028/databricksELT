{
 "cells": [
  {
   "cell_type": "code",
   "execution_count": 0,
   "metadata": {
    "application/vnd.databricks.v1+cell": {
     "cellMetadata": {
      "byteLimit": 2048000,
      "rowLimit": 10000
     },
     "inputWidgets": {},
     "nuid": "e789aa41-ea6a-4155-8201-717efc15567a",
     "showTitle": false,
     "tableResultSettingsMap": {},
     "title": ""
    }
   },
   "outputs": [],
   "source": [
    "import dlt\n",
    "import json\n",
    "from pyspark.sql.types import *\n",
    "from pyspark.sql import functions as f"
   ]
  },
  {
   "cell_type": "code",
   "execution_count": 0,
   "metadata": {
    "application/vnd.databricks.v1+cell": {
     "cellMetadata": {
      "byteLimit": 2048000,
      "rowLimit": 10000
     },
     "inputWidgets": {},
     "nuid": "da7665a2-b08f-4652-b60d-d2ef62bf6ccc",
     "showTitle": false,
     "tableResultSettingsMap": {},
     "title": ""
    }
   },
   "outputs": [],
   "source": [
    "# x = dbutils.secrets.get(scope=\"akv-dlp\", key=\"eventhub-sqlservercdc-access-key\")\n",
    "# x[:14]"
   ]
  },
  {
   "cell_type": "code",
   "execution_count": 0,
   "metadata": {
    "application/vnd.databricks.v1+cell": {
     "cellMetadata": {},
     "inputWidgets": {},
     "nuid": "a32d0442-2fc2-4492-93f4-636db893e86b",
     "showTitle": false,
     "tableResultSettingsMap": {},
     "title": ""
    }
   },
   "outputs": [],
   "source": [
    "def dummy_df():\n",
    "    data = [[\"A\",100],[\"B\",200]]\n",
    "    schema = StructType([\n",
    "        StructField(\"key\", StringType(), True),\n",
    "        StructField(\"value\", StringType(), True)\n",
    "    ])\n",
    "    df = spark.createDataFrame(data, schema)\n",
    "    return df"
   ]
  },
  {
   "cell_type": "code",
   "execution_count": 0,
   "metadata": {
    "application/vnd.databricks.v1+cell": {
     "cellMetadata": {},
     "inputWidgets": {},
     "nuid": "5cfc8878-e1ca-49c8-8990-d2809f61d86a",
     "showTitle": false,
     "tableResultSettingsMap": {},
     "title": ""
    }
   },
   "outputs": [],
   "source": [
    "import json\n",
    "source_to_bronze_config_path = \"../../Config/SourceToBronze.json\"  # Path to your JSON file\n",
    "with open(source_to_bronze_config_path, 'r') as file:\n",
    "    config = json.load(file)"
   ]
  },
  {
   "cell_type": "code",
   "execution_count": 0,
   "metadata": {
    "application/vnd.databricks.v1+cell": {
     "cellMetadata": {
      "byteLimit": 2048000,
      "rowLimit": 10000
     },
     "inputWidgets": {},
     "nuid": "9c522032-e0db-4a93-a690-cf9c4fa11a42",
     "showTitle": false,
     "tableResultSettingsMap": {},
     "title": ""
    }
   },
   "outputs": [],
   "source": [
    "eventhub_sources = [item for item in config[\"sources\"] if item[\"source_format\"] == \"eventhub\"]\n",
    "\n",
    "# @dlt.table(name = \"silver.ssff\")\n",
    "# def table():\n",
    "#     return dummy_df()\n",
    "\n",
    "for source in eventhub_sources:\n",
    "    @dlt.table(name = f\"silver.{source['table_name']}\")\n",
    "    def table():\n",
    "        return dummy_df()\n",
    "\n",
    "\n",
    "# for source in eventhub_sources:\n",
    "#     KAFKA_OPTIONS = return_eventhub_config(source[\"eventhub_namespace\"], source[\"eventhub\"])\n",
    "#     @dlt_table(name=f\"bronze_{source['table_name']}\")\n",
    "    \n"
   ]
  },
  {
   "cell_type": "code",
   "execution_count": 0,
   "metadata": {
    "application/vnd.databricks.v1+cell": {
     "cellMetadata": {},
     "inputWidgets": {},
     "nuid": "174829ce-a3f7-4d24-bfec-4ac8b0dfc11f",
     "showTitle": false,
     "tableResultSettingsMap": {},
     "title": ""
    }
   },
   "outputs": [],
   "source": [
    "# df = spark.read \\\n",
    "#     .format(\"kafka\") \\\n",
    "#     .options(**KAFKA_OPTIONS) \\\n",
    "#     .load() \\\n",
    "#     .withColumn(\"records\", f.col(\"value\").cast(\"string\"))"
   ]
  },
  {
   "cell_type": "code",
   "execution_count": 0,
   "metadata": {
    "application/vnd.databricks.v1+cell": {
     "cellMetadata": {},
     "inputWidgets": {},
     "nuid": "7b1624bc-e82e-497c-b740-e8bd9d4e619e",
     "showTitle": false,
     "tableResultSettingsMap": {},
     "title": ""
    }
   },
   "outputs": [],
   "source": [
    "# @dlt.table(\n",
    "#   comment=\"CDC events from SQL Server\",\n",
    "#   partition_cols=[\"event_time\"]\n",
    "# )\n",
    "# def sqlservercdc():"
   ]
  },
  {
   "cell_type": "code",
   "execution_count": 0,
   "metadata": {
    "application/vnd.databricks.v1+cell": {
     "cellMetadata": {
      "byteLimit": 2048000,
      "rowLimit": 10000
     },
     "inputWidgets": {},
     "nuid": "0380f007-4af8-4d34-b27d-62554a022109",
     "showTitle": false,
     "tableResultSettingsMap": {},
     "title": ""
    }
   },
   "outputs": [],
   "source": [
    "# import json\n",
    "# source_to_bronze_config_path = \"../../Config/SourceToBronze.json\"  # Path to your JSON file\n",
    "# with open(source_to_bronze_config_path, 'r') as file:\n",
    "#     config = json.load(file)"
   ]
  },
  {
   "cell_type": "code",
   "execution_count": 0,
   "metadata": {
    "application/vnd.databricks.v1+cell": {
     "cellMetadata": {
      "byteLimit": 2048000,
      "rowLimit": 10000
     },
     "inputWidgets": {},
     "nuid": "f9038d3f-3f01-4839-af0a-fe7d13adfe8d",
     "showTitle": false,
     "tableResultSettingsMap": {},
     "title": ""
    }
   },
   "outputs": [],
   "source": [
    "# eventhub_sources = [item for item in config[\"sources\"] if item[\"source_format\"] == \"eventhub\"]"
   ]
  },
  {
   "cell_type": "code",
   "execution_count": 0,
   "metadata": {
    "application/vnd.databricks.v1+cell": {
     "cellMetadata": {
      "byteLimit": 2048000,
      "implicitDf": true,
      "rowLimit": 10000
     },
     "inputWidgets": {},
     "nuid": "eac9b111-4971-4564-8d77-379a8da38cd7",
     "showTitle": false,
     "tableResultSettingsMap": {},
     "title": ""
    }
   },
   "outputs": [],
   "source": [
    "# %sql\n",
    "# USE CATALOG dlp_dev"
   ]
  },
  {
   "cell_type": "code",
   "execution_count": 0,
   "metadata": {
    "application/vnd.databricks.v1+cell": {
     "cellMetadata": {
      "byteLimit": 2048000,
      "implicitDf": true,
      "rowLimit": 10000
     },
     "inputWidgets": {},
     "nuid": "555cecd8-9de1-4bc2-a5e2-d4060b380048",
     "showTitle": false,
     "tableResultSettingsMap": {},
     "title": ""
    }
   },
   "outputs": [],
   "source": [
    "# %sql\n",
    "# CREATE SCHEMA bronze MANAGED LOCATION 'abfss://dataplatform@dataplatformpocaytc1028.dfs.core.windows.net/bronze'"
   ]
  },
  {
   "cell_type": "code",
   "execution_count": 0,
   "metadata": {
    "application/vnd.databricks.v1+cell": {
     "cellMetadata": {
      "byteLimit": 2048000,
      "implicitDf": true,
      "rowLimit": 10000
     },
     "inputWidgets": {},
     "nuid": "021329aa-e21e-4b27-897f-7981352bbbd7",
     "showTitle": false,
     "tableResultSettingsMap": {},
     "title": ""
    }
   },
   "outputs": [],
   "source": [
    "# %sql\n",
    "# CREATE SCHEMA silver MANAGED LOCATION 'abfss://dataplatform@dataplatformpocaytc1028.dfs.core.windows.net/silver'"
   ]
  },
  {
   "cell_type": "code",
   "execution_count": 0,
   "metadata": {
    "application/vnd.databricks.v1+cell": {
     "cellMetadata": {
      "byteLimit": 2048000,
      "implicitDf": true,
      "rowLimit": 10000
     },
     "inputWidgets": {},
     "nuid": "4403c5e2-a87e-4308-9d68-b1554cc8da61",
     "showTitle": false,
     "tableResultSettingsMap": {},
     "title": ""
    }
   },
   "outputs": [],
   "source": [
    "# %sql\n",
    "# DROP SCHEMA IF EXISTS bronze CASCADE"
   ]
  },
  {
   "cell_type": "code",
   "execution_count": 0,
   "metadata": {
    "application/vnd.databricks.v1+cell": {
     "cellMetadata": {
      "byteLimit": 2048000,
      "rowLimit": 10000
     },
     "inputWidgets": {},
     "nuid": "87c06348-853c-4e34-bef5-658c6511e365",
     "showTitle": false,
     "tableResultSettingsMap": {},
     "title": ""
    }
   },
   "outputs": [],
   "source": [
    "# df = spark.read \\\n",
    "#     .format(\"kafka\") \\\n",
    "#     .options(**KAFKA_OPTIONS) \\\n",
    "#     .load() \\\n",
    "#     .withColumn(\"records\", f.col(\"value\").cast(\"string\"))"
   ]
  },
  {
   "cell_type": "code",
   "execution_count": 0,
   "metadata": {
    "application/vnd.databricks.v1+cell": {
     "cellMetadata": {
      "byteLimit": 2048000,
      "rowLimit": 10000
     },
     "inputWidgets": {},
     "nuid": "7ef0a68a-8d7f-4084-9cfc-b2dce76fe54e",
     "showTitle": false,
     "tableResultSettingsMap": {},
     "title": ""
    }
   },
   "outputs": [],
   "source": [
    "# def parse(df):\n",
    "#   return (df\n",
    "#     .withColumn(\"records\", col(\"value\").cast(\"string\"))\n",
    "#     .withColumn(\"parsed_records\", from_json(col(\"records\"), payload_schema))\n",
    "#     .withColumn(\"iot_event_timestamp\", expr(\"cast(from_unixtime(parsed_records.timestamp / 1000) as timestamp)\"))\n",
    "#     .withColumn(\"eh_enqueued_timestamp\", expr(\"timestamp\"))\n",
    "#     .withColumn(\"eh_enqueued_date\", expr(\"to_date(timestamp)\"))\n",
    "#     .withColumn(\"etl_processed_timestamp\", col(\"current_timestamp\"))\n",
    "#     .withColumn(\"etl_rec_uuid\", expr(\"uuid()\"))\n",
    "#     .drop(\"records\", \"value\", \"key\")\n",
    "#   )"
   ]
  },
  {
   "cell_type": "code",
   "execution_count": 0,
   "metadata": {
    "application/vnd.databricks.v1+cell": {
     "cellMetadata": {
      "byteLimit": 2048000,
      "rowLimit": 10000
     },
     "inputWidgets": {},
     "nuid": "0e374278-efc0-40e7-8e7a-a85e4f990172",
     "showTitle": false,
     "tableResultSettingsMap": {},
     "title": ""
    }
   },
   "outputs": [],
   "source": [
    "# df.write.mode(\"overwrite\").saveAsTable(\"silver.dummy\")"
   ]
  }
 ],
 "metadata": {
  "application/vnd.databricks.v1+notebook": {
   "computePreferences": null,
   "dashboards": [],
   "environmentMetadata": {
    "base_environment": "",
    "environment_version": "2"
   },
   "inputWidgetPreferences": null,
   "language": "python",
   "notebookMetadata": {
    "mostRecentlyExecutedCommandWithImplicitDF": {
     "commandId": 6926794916312808,
     "dataframes": [
      "_sqldf"
     ]
    },
    "pythonIndentUnit": 4
   },
   "notebookName": "EventHub to Bronze",
   "widgets": {}
  },
  "language_info": {
   "name": "python"
  }
 },
 "nbformat": 4,
 "nbformat_minor": 0
}
