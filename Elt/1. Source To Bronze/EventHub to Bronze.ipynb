{
 "cells": [
  {
   "cell_type": "code",
   "execution_count": 0,
   "metadata": {
    "application/vnd.databricks.v1+cell": {
     "cellMetadata": {
      "byteLimit": 2048000,
      "rowLimit": 10000
     },
     "inputWidgets": {},
     "nuid": "e789aa41-ea6a-4155-8201-717efc15567a",
     "showTitle": false,
     "tableResultSettingsMap": {},
     "title": ""
    }
   },
   "outputs": [],
   "source": [
    "import dlt\n",
    "import json\n",
    "from pyspark.sql.types import *\n",
    "from pyspark.sql import functions as f"
   ]
  },
  {
   "cell_type": "code",
   "execution_count": 0,
   "metadata": {
    "application/vnd.databricks.v1+cell": {
     "cellMetadata": {},
     "inputWidgets": {},
     "nuid": "aef56b79-1df3-42c8-8fbd-e4687da086cf",
     "showTitle": false,
     "tableResultSettingsMap": {},
     "title": ""
    }
   },
   "outputs": [],
   "source": [
    "def return_eventhub_config(\n",
    "    eh_namespace: str,\n",
    "    eh_name: str,\n",
    "    akv_secret_scope: str\n",
    "):\n",
    "    EH_NAMESPACE                    = eh_namespace\n",
    "    EH_NAME                         = eh_name\n",
    "    EH_CONN_SHARED_ACCESS_KEY_NAME  = dbutils.secrets.get(scope=akv_secret_scope, key=f'eventhub-{eh_namespace}-access-key-name')\n",
    "    EH_CONN_SHARED_ACCESS_KEY_VALUE = dbutils.secrets.get(scope=akv_secret_scope, key=f'eventhub-{eh_namespace}-access-key')\n",
    "    EH_CONN_STR                     = f\"Endpoint=sb://{EH_NAMESPACE}.servicebus.windows.net/;SharedAccessKeyName={EH_CONN_SHARED_ACCESS_KEY_NAME};SharedAccessKey={EH_CONN_SHARED_ACCESS_KEY_VALUE}\"\n",
    "\n",
    "    KAFKA_OPTIONS = {\n",
    "    \"kafka.bootstrap.servers\"  : f\"{EH_NAMESPACE}.servicebus.windows.net:9093\",\n",
    "    \"subscribe\"                : EH_NAME,\n",
    "    \"kafka.sasl.mechanism\"     : \"PLAIN\",\n",
    "    \"kafka.security.protocol\"  : \"SASL_SSL\",\n",
    "    \"kafka.sasl.jaas.config\"   : f\"kafkashaded.org.apache.kafka.common.security.plain.PlainLoginModule required username=\\\"$ConnectionString\\\" password=\\\"{EH_CONN_STR}\\\";\"\n",
    "    }\n",
    "\n",
    "    return KAFKA_OPTIONS"
   ]
  },
  {
   "cell_type": "code",
   "execution_count": 0,
   "metadata": {
    "application/vnd.databricks.v1+cell": {
     "cellMetadata": {},
     "inputWidgets": {},
     "nuid": "6ac0f9e2-812e-4e7b-9cee-1e23d4014c39",
     "showTitle": false,
     "tableResultSettingsMap": {},
     "title": ""
    }
   },
   "outputs": [],
   "source": [
    "def create_bronze_table_from_eventhub(\n",
    "    eh_namespace: str,\n",
    "    eh_name: str,\n",
    "    akv_secret_scope: str,\n",
    "    output_table_name: str\n",
    "):\n",
    "    KAFKA_OPTIONS = return_eventhub_config(eh_namespace, eh_name, akv_secret_scope)\n",
    "    bronze_layer_table = f\"{spark.conf.get('ENV_BRONZE_LH', 'bronze')}.{output_table_name}\"\n",
    "    @dlt.table(name = bronze_layer_table)\n",
    "    def table():\n",
    "        df = spark.read \\\n",
    "            .format(\"kafka\") \\\n",
    "            .options(**KAFKA_OPTIONS) \\\n",
    "            .load() \\\n",
    "            .withColumn(\"records\", f.col(\"value\").cast(\"string\"))\n",
    "        return df"
   ]
  },
  {
   "cell_type": "code",
   "execution_count": 0,
   "metadata": {
    "application/vnd.databricks.v1+cell": {
     "cellMetadata": {},
     "inputWidgets": {},
     "nuid": "5cfc8878-e1ca-49c8-8990-d2809f61d86a",
     "showTitle": false,
     "tableResultSettingsMap": {},
     "title": ""
    }
   },
   "outputs": [],
   "source": [
    "import json\n",
    "source_to_bronze_config_path = \"../../Config/SourceToBronze.json\"  # Path to your JSON file\n",
    "with open(source_to_bronze_config_path, 'r') as file:\n",
    "    config = json.load(file)"
   ]
  },
  {
   "cell_type": "code",
   "execution_count": 0,
   "metadata": {
    "application/vnd.databricks.v1+cell": {
     "cellMetadata": {
      "byteLimit": 2048000,
      "rowLimit": 10000
     },
     "inputWidgets": {},
     "nuid": "9c522032-e0db-4a93-a690-cf9c4fa11a42",
     "showTitle": false,
     "tableResultSettingsMap": {},
     "title": ""
    }
   },
   "outputs": [],
   "source": [
    "eventhub_sources = [item for item in config[\"sources\"] if item[\"source_format\"] == \"eventhub\"]\n",
    "\n",
    "for source in eventhub_sources:\n",
    "    create_bronze_table_from_eventhub(\n",
    "        eh_namespace = source[\"eventhub_namespace\"],\n",
    "        eh_name = source[\"eventhub_name\"],\n",
    "        akv_secret_scope = spark.conf.get(\"ENV_AKV_SECRET_SCOPE\", \"akv-dlp\"),\n",
    "        output_table_name = source[\"table_name\"]\n",
    "    )\n"
   ]
  },
  {
   "cell_type": "code",
   "execution_count": 0,
   "metadata": {
    "application/vnd.databricks.v1+cell": {
     "cellMetadata": {},
     "inputWidgets": {},
     "nuid": "174829ce-a3f7-4d24-bfec-4ac8b0dfc11f",
     "showTitle": false,
     "tableResultSettingsMap": {},
     "title": ""
    }
   },
   "outputs": [],
   "source": [
    "# df = spark.read \\\n",
    "#     .format(\"kafka\") \\\n",
    "#     .options(**KAFKA_OPTIONS) \\\n",
    "#     .load() \\\n",
    "#     .withColumn(\"records\", f.col(\"value\").cast(\"string\"))"
   ]
  },
  {
   "cell_type": "code",
   "execution_count": 0,
   "metadata": {
    "application/vnd.databricks.v1+cell": {
     "cellMetadata": {},
     "inputWidgets": {},
     "nuid": "7b1624bc-e82e-497c-b740-e8bd9d4e619e",
     "showTitle": false,
     "tableResultSettingsMap": {},
     "title": ""
    }
   },
   "outputs": [],
   "source": [
    "# @dlt.table(\n",
    "#   comment=\"CDC events from SQL Server\",\n",
    "#   partition_cols=[\"event_time\"]\n",
    "# )\n",
    "# def sqlservercdc():"
   ]
  },
  {
   "cell_type": "code",
   "execution_count": 0,
   "metadata": {
    "application/vnd.databricks.v1+cell": {
     "cellMetadata": {
      "byteLimit": 2048000,
      "rowLimit": 10000
     },
     "inputWidgets": {},
     "nuid": "0380f007-4af8-4d34-b27d-62554a022109",
     "showTitle": false,
     "tableResultSettingsMap": {},
     "title": ""
    }
   },
   "outputs": [],
   "source": [
    "# import json\n",
    "# source_to_bronze_config_path = \"../../Config/SourceToBronze.json\"  # Path to your JSON file\n",
    "# with open(source_to_bronze_config_path, 'r') as file:\n",
    "#     config = json.load(file)"
   ]
  },
  {
   "cell_type": "code",
   "execution_count": 0,
   "metadata": {
    "application/vnd.databricks.v1+cell": {
     "cellMetadata": {
      "byteLimit": 2048000,
      "rowLimit": 10000
     },
     "inputWidgets": {},
     "nuid": "f9038d3f-3f01-4839-af0a-fe7d13adfe8d",
     "showTitle": false,
     "tableResultSettingsMap": {},
     "title": ""
    }
   },
   "outputs": [],
   "source": [
    "# eventhub_sources = [item for item in config[\"sources\"] if item[\"source_format\"] == \"eventhub\"]"
   ]
  },
  {
   "cell_type": "code",
   "execution_count": 0,
   "metadata": {
    "application/vnd.databricks.v1+cell": {
     "cellMetadata": {
      "byteLimit": 2048000,
      "implicitDf": true,
      "rowLimit": 10000
     },
     "inputWidgets": {},
     "nuid": "eac9b111-4971-4564-8d77-379a8da38cd7",
     "showTitle": false,
     "tableResultSettingsMap": {},
     "title": ""
    }
   },
   "outputs": [],
   "source": [
    "# %sql\n",
    "# USE CATALOG dlp_dev"
   ]
  },
  {
   "cell_type": "code",
   "execution_count": 0,
   "metadata": {
    "application/vnd.databricks.v1+cell": {
     "cellMetadata": {
      "byteLimit": 2048000,
      "implicitDf": true,
      "rowLimit": 10000
     },
     "inputWidgets": {},
     "nuid": "39435b8e-268c-4bfb-bf7b-de49f23b3a10",
     "showTitle": false,
     "tableResultSettingsMap": {},
     "title": ""
    }
   },
   "outputs": [],
   "source": [
    "# %sql\n",
    "# CREATE SCHEMA brz MANAGED LOCATION 'abfss://dataplatform@dataplatformpocaytc1028.dfs.core.windows.net/'"
   ]
  },
  {
   "cell_type": "code",
   "execution_count": 0,
   "metadata": {
    "application/vnd.databricks.v1+cell": {
     "cellMetadata": {
      "byteLimit": 2048000,
      "implicitDf": true,
      "rowLimit": 10000
     },
     "inputWidgets": {},
     "nuid": "555cecd8-9de1-4bc2-a5e2-d4060b380048",
     "showTitle": false,
     "tableResultSettingsMap": {},
     "title": ""
    }
   },
   "outputs": [],
   "source": [
    "# %sql\n",
    "# CREATE SCHEMA bronze MANAGED LOCATION 'abfss://dataplatform@dataplatformpocaytc1028.dfs.core.windows.net/'"
   ]
  },
  {
   "cell_type": "code",
   "execution_count": 0,
   "metadata": {
    "application/vnd.databricks.v1+cell": {
     "cellMetadata": {
      "byteLimit": 2048000,
      "implicitDf": true,
      "rowLimit": 10000
     },
     "inputWidgets": {},
     "nuid": "021329aa-e21e-4b27-897f-7981352bbbd7",
     "showTitle": false,
     "tableResultSettingsMap": {},
     "title": ""
    }
   },
   "outputs": [],
   "source": [
    "# %sql\n",
    "# CREATE SCHEMA silver MANAGED LOCATION 'abfss://dataplatform@dataplatformpocaytc1028.dfs.core.windows.net/'"
   ]
  },
  {
   "cell_type": "code",
   "execution_count": 0,
   "metadata": {
    "application/vnd.databricks.v1+cell": {
     "cellMetadata": {
      "byteLimit": 2048000,
      "implicitDf": true,
      "rowLimit": 10000
     },
     "inputWidgets": {},
     "nuid": "4403c5e2-a87e-4308-9d68-b1554cc8da61",
     "showTitle": false,
     "tableResultSettingsMap": {},
     "title": ""
    }
   },
   "outputs": [],
   "source": [
    "# %sql\n",
    "# DROP SCHEMA IF EXISTS silver CASCADE"
   ]
  },
  {
   "cell_type": "code",
   "execution_count": 0,
   "metadata": {
    "application/vnd.databricks.v1+cell": {
     "cellMetadata": {
      "byteLimit": 2048000,
      "rowLimit": 10000
     },
     "inputWidgets": {},
     "nuid": "87c06348-853c-4e34-bef5-658c6511e365",
     "showTitle": false,
     "tableResultSettingsMap": {},
     "title": ""
    }
   },
   "outputs": [],
   "source": [
    "# df = spark.read \\\n",
    "#     .format(\"kafka\") \\\n",
    "#     .options(**KAFKA_OPTIONS) \\\n",
    "#     .load() \\\n",
    "#     .withColumn(\"records\", f.col(\"value\").cast(\"string\"))"
   ]
  },
  {
   "cell_type": "code",
   "execution_count": 0,
   "metadata": {
    "application/vnd.databricks.v1+cell": {
     "cellMetadata": {
      "byteLimit": 2048000,
      "rowLimit": 10000
     },
     "inputWidgets": {},
     "nuid": "7ef0a68a-8d7f-4084-9cfc-b2dce76fe54e",
     "showTitle": false,
     "tableResultSettingsMap": {},
     "title": ""
    }
   },
   "outputs": [],
   "source": [
    "# def parse(df):\n",
    "#   return (df\n",
    "#     .withColumn(\"records\", col(\"value\").cast(\"string\"))\n",
    "#     .withColumn(\"parsed_records\", from_json(col(\"records\"), payload_schema))\n",
    "#     .withColumn(\"iot_event_timestamp\", expr(\"cast(from_unixtime(parsed_records.timestamp / 1000) as timestamp)\"))\n",
    "#     .withColumn(\"eh_enqueued_timestamp\", expr(\"timestamp\"))\n",
    "#     .withColumn(\"eh_enqueued_date\", expr(\"to_date(timestamp)\"))\n",
    "#     .withColumn(\"etl_processed_timestamp\", col(\"current_timestamp\"))\n",
    "#     .withColumn(\"etl_rec_uuid\", expr(\"uuid()\"))\n",
    "#     .drop(\"records\", \"value\", \"key\")\n",
    "#   )"
   ]
  },
  {
   "cell_type": "code",
   "execution_count": 0,
   "metadata": {
    "application/vnd.databricks.v1+cell": {
     "cellMetadata": {
      "byteLimit": 2048000,
      "rowLimit": 10000
     },
     "inputWidgets": {},
     "nuid": "0e374278-efc0-40e7-8e7a-a85e4f990172",
     "showTitle": false,
     "tableResultSettingsMap": {},
     "title": ""
    }
   },
   "outputs": [],
   "source": [
    "# df.write.mode(\"overwrite\").saveAsTable(\"silver.dummy\")"
   ]
  }
 ],
 "metadata": {
  "application/vnd.databricks.v1+notebook": {
   "computePreferences": null,
   "dashboards": [],
   "environmentMetadata": {
    "base_environment": "",
    "environment_version": "2"
   },
   "inputWidgetPreferences": null,
   "language": "python",
   "notebookMetadata": {
    "mostRecentlyExecutedCommandWithImplicitDF": {
     "commandId": 6926794916312808,
     "dataframes": [
      "_sqldf"
     ]
    },
    "pythonIndentUnit": 4
   },
   "notebookName": "EventHub to Bronze",
   "widgets": {}
  },
  "language_info": {
   "name": "python"
  }
 },
 "nbformat": 4,
 "nbformat_minor": 0
}
